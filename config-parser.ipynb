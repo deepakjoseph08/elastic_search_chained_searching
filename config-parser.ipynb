{
 "cells": [
  {
   "cell_type": "code",
   "execution_count": 1,
   "metadata": {
    "collapsed": true
   },
   "outputs": [],
   "source": [
    "import json"
   ]
  },
  {
   "cell_type": "code",
   "execution_count": 2,
   "metadata": {
    "collapsed": true
   },
   "outputs": [],
   "source": [
    "config=json.loads(open(\"_data/sampleAML.json\").read())"
   ]
  },
  {
   "cell_type": "code",
   "execution_count": 45,
   "metadata": {
    "collapsed": true
   },
   "outputs": [],
   "source": [
    "hits =1"
   ]
  },
  {
   "cell_type": "code",
   "execution_count": 46,
   "metadata": {},
   "outputs": [],
   "source": [
    "next_module= \"DOB\"\n",
    "hits = lis.__len__()\n",
    "if(hits>=1):\n",
    "    yes =  config['Flow'][next_module][0]['IfYes'] \n",
    "else:\n",
    "    no  =  config['Flow'][next_module][0]['IfNo']\n"
   ]
  },
  {
   "cell_type": "code",
   "execution_count": 47,
   "metadata": {},
   "outputs": [
    {
     "name": "stdout",
     "output_type": "stream",
     "text": [
      "Address FalsePositive\n"
     ]
    }
   ],
   "source": [
    "print(yes,no)"
   ]
  },
  {
   "cell_type": "code",
   "execution_count": 48,
   "metadata": {},
   "outputs": [
    {
     "name": "stdout",
     "output_type": "stream",
     "text": [
      "enity is cleared DOB Address FalsePositive\n"
     ]
    }
   ],
   "source": [
    "while(yes!=\"RiskEntity\"):\n",
    "    if ( no == \"FalsePositive\"):\n",
    "        print(\"enity is cleared\",next_module,yes,no)\n",
    "        break\n",
    "    next_module = yes\n",
    "    no  =  config['Flow'][next_module][0]['IfNo']\n",
    "    yes =  config['Flow'][next_module][0]['IfYes']\n",
    "    print(next_module,yes,no)"
   ]
  },
  {
   "cell_type": "code",
   "execution_count": 34,
   "metadata": {},
   "outputs": [
    {
     "data": {
      "text/plain": [
       "False"
      ]
     },
     "execution_count": 34,
     "metadata": {},
     "output_type": "execute_result"
    }
   ],
   "source": [
    "yes in ['Country','DOB','Address','SSN']"
   ]
  },
  {
   "cell_type": "code",
   "execution_count": 21,
   "metadata": {
    "scrolled": true
   },
   "outputs": [
    {
     "name": "stdout",
     "output_type": "stream",
     "text": [
      "NameModule\n",
      "DOB\n",
      "Address\n",
      "SSN\n",
      "Country\n"
     ]
    }
   ],
   "source": [
    "for i in config['Flow'].keys():\n",
    "    print(i)\n",
    "    conditions = ((config['Flow'][i])[0])\n",
    "    yes_flow=(conditions['IfYes'])\n",
    "    no_flow = (conditions['IfNo'])\n",
    "    \n",
    "    "
   ]
  },
  {
   "cell_type": "code",
   "execution_count": 22,
   "metadata": {},
   "outputs": [
    {
     "data": {
      "text/plain": [
       "{'FirstModuleToProcess': 'Country',\n",
       " 'Flow': {'Address': [{'IfNo': 'FalsePositive', 'IfYes': 'SSN'}],\n",
       "  'Country': [{'IfNo': 'NameModule', 'IfYes': 'RiskEntity'}],\n",
       "  'DOB': [{'IfNo': 'FalsePositive', 'IfYes': 'Address'}],\n",
       "  'NameModule': [{'IfNo': 'FalsePositive', 'IfYes': 'DOB'}],\n",
       "  'SSN': [{'IfNo': 'FalsePositive', 'IfYes': 'RiskEntity'}]}}"
      ]
     },
     "execution_count": 22,
     "metadata": {},
     "output_type": "execute_result"
    }
   ],
   "source": [
    "config"
   ]
  },
  {
   "cell_type": "code",
   "execution_count": null,
   "metadata": {
    "collapsed": true
   },
   "outputs": [],
   "source": []
  },
  {
   "cell_type": "code",
   "execution_count": 57,
   "metadata": {},
   "outputs": [],
   "source": [
    "def tst():\n",
    "    print(1)"
   ]
  },
  {
   "cell_type": "code",
   "execution_count": null,
   "metadata": {
    "collapsed": true
   },
   "outputs": [],
   "source": []
  },
  {
   "cell_type": "code",
   "execution_count": 58,
   "metadata": {},
   "outputs": [],
   "source": [
    "next_module = config[\"FirstModuleToProcess\"]"
   ]
  },
  {
   "cell_type": "code",
   "execution_count": 64,
   "metadata": {},
   "outputs": [
    {
     "ename": "SyntaxError",
     "evalue": "invalid syntax (<ipython-input-64-20ac57955b76>, line 2)",
     "output_type": "error",
     "traceback": [
      "\u001b[1;36m  File \u001b[1;32m\"<ipython-input-64-20ac57955b76>\"\u001b[1;36m, line \u001b[1;32m2\u001b[0m\n\u001b[1;33m    call Address\u001b[0m\n\u001b[1;37m               ^\u001b[0m\n\u001b[1;31mSyntaxError\u001b[0m\u001b[1;31m:\u001b[0m invalid syntax\n"
     ]
    }
   ],
   "source": [
    "if (next_module ==\"Address\"):\n",
    "    call Address\n",
    "else if (next_module ==\"DOB\"):\n",
    "    call DOB\n",
    "else if (next_module ==\"Name\"):\n",
    "    call Name\n",
    "else if (next_module ==\"SSN\"):\n",
    "    call SSN\n",
    "else if (next_module ==\"Country\"):\n",
    "    call country"
   ]
  },
  {
   "cell_type": "code",
   "execution_count": 63,
   "metadata": {},
   "outputs": [
    {
     "data": {
      "text/plain": [
       "'tst()'"
      ]
     },
     "execution_count": 63,
     "metadata": {},
     "output_type": "execute_result"
    }
   ],
   "source": []
  },
  {
   "cell_type": "code",
   "execution_count": null,
   "metadata": {
    "collapsed": true
   },
   "outputs": [],
   "source": []
  }
 ],
 "metadata": {
  "kernelspec": {
   "display_name": "AML-Project-WB",
   "language": "python",
   "name": "aml-project-wb"
  },
  "language_info": {
   "codemirror_mode": {
    "name": "ipython",
    "version": 3
   },
   "file_extension": ".py",
   "mimetype": "text/x-python",
   "name": "python",
   "nbconvert_exporter": "python",
   "pygments_lexer": "ipython3",
   "version": "3.6.3"
  }
 },
 "nbformat": 4,
 "nbformat_minor": 2
}
