{
 "cells": [
  {
   "cell_type": "code",
   "execution_count": 1,
   "metadata": {
    "collapsed": true
   },
   "outputs": [],
   "source": [
    "from dateutil.relativedelta import *\n",
    "from dateutil.easter import *\n",
    "from dateutil.rrule import *\n",
    "from dateutil.parser import *\n",
    "from datetime import *\n",
    "from datetime import datetime\n",
    "from datetime import datetime\n",
    "from elasticsearch import Elasticsearch\n",
    "import pandas as pd\n",
    "import numpy as np\n",
    "import dateutil as dt\n",
    "df = pd.read_csv(\"_data\\SanctionedList.csv\")\n",
    "df.fillna(value=((datetime.today()).year),inplace=True)\n",
    "es = Elasticsearch()"
   ]
  },
  {
   "cell_type": "code",
   "execution_count": 4,
   "metadata": {},
   "outputs": [
    {
     "data": {
      "text/plain": [
       "['1990/05/08', '1990/08/05']"
      ]
     },
     "execution_count": 4,
     "metadata": {},
     "output_type": "execute_result"
    }
   ],
   "source": [
    "try_parsing_date(\"08/05/1990\")"
   ]
  },
  {
   "cell_type": "code",
   "execution_count": 3,
   "metadata": {
    "collapsed": true
   },
   "outputs": [],
   "source": [
    "def try_parsing_date(text):\n",
    "    s =[]\n",
    "    str_list = (str(text).replace(\"-\",\"/\"))\n",
    "    \n",
    "    for fmt in ['%Y','%d/%b/%y','%Y/%mm/%d', '%d/%m/%Y','%m/%d/%y','%d/%m/%y','%m/%d/%Y']:\n",
    "        \n",
    "        try:\n",
    "            ass = (str(datetime.strptime(str_list,fmt))).split(\"-\")\n",
    "            day=(ass[2].split())[0]\n",
    "            year = ass[0]\n",
    "            month = ass[1]\n",
    "            s.append(str(year+\"/\"+month+\"/\"+day))\n",
    "        except:\n",
    "            continue\n",
    "    return s"
   ]
  },
  {
   "cell_type": "code",
   "execution_count": 11,
   "metadata": {},
   "outputs": [
    {
     "data": {
      "text/plain": [
       "'1990/05/08'"
      ]
     },
     "execution_count": 11,
     "metadata": {},
     "output_type": "execute_result"
    }
   ],
   "source": [
    "datetime.strptime(\"08/05/1990\", \"%d/%m/%Y\").strftime(\"%Y/%m/%d\")"
   ]
  },
  {
   "cell_type": "code",
   "execution_count": 8,
   "metadata": {},
   "outputs": [
    {
     "ename": "AttributeError",
     "evalue": "type object 'datetime.datetime' has no attribute 'datetime'",
     "output_type": "error",
     "traceback": [
      "\u001b[1;31m---------------------------------------------------------------------------\u001b[0m",
      "\u001b[1;31mAttributeError\u001b[0m                            Traceback (most recent call last)",
      "\u001b[1;32m<ipython-input-8-786b2bb94499>\u001b[0m in \u001b[0;36m<module>\u001b[1;34m()\u001b[0m\n\u001b[1;32m----> 1\u001b[1;33m \u001b[0mdatetime\u001b[0m\u001b[1;33m.\u001b[0m\u001b[0mdatetime\u001b[0m\u001b[1;33m.\u001b[0m\u001b[0mstrptime\u001b[0m\u001b[1;33m(\u001b[0m\u001b[1;34m\"08/05/1990\"\u001b[0m\u001b[1;33m,\u001b[0m\u001b[1;34m\"%d/%m/%Y\"\u001b[0m\u001b[1;33m)\u001b[0m\u001b[1;33m.\u001b[0m\u001b[0mstrftime\u001b[0m\u001b[1;33m(\u001b[0m\u001b[1;34m'%d/%m/%y'\u001b[0m\u001b[1;33m)\u001b[0m\u001b[1;33m\u001b[0m\u001b[0m\n\u001b[0m",
      "\u001b[1;31mAttributeError\u001b[0m: type object 'datetime.datetime' has no attribute 'datetime'"
     ]
    }
   ],
   "source": [
    "datetime.datetime.strptime(\"08/05/1990\",\"%d/%m/%Y\").strftime(\"%d/%m/%Y\")"
   ]
  },
  {
   "cell_type": "code",
   "execution_count": 50,
   "metadata": {
    "scrolled": true
   },
   "outputs": [
    {
     "name": "stdout",
     "output_type": "stream",
     "text": [
      "1953\n",
      "{'Name': 'mohammed ali barakat', 'DOB_1': '1953/01/01', 'DOB_2': '1900/06/01', 'SSN': 9876543245, 'Address': '225 syracuse place ardson tx 75081', 'Country': 'Iraq'} True\n",
      "10/12/1953, 1964 \n",
      "{'Name': 'abdul rahman aziz', 'DOB_1': '1953/12/10', 'DOB_2': '1953/10/12', 'SSN': 9876545711, 'Address': '500 al-muzannar st al-nasir area gaza city gaza palestinian', 'Country': 'Palestine'} True\n",
      "10/25/1978\n",
      "{'Name': 'saleem ali wahabi', 'DOB_1': '1978/10/25', 'DOB_2': '1900/06/01', 'SSN': 9876543245, 'Address': 'calle mina no. 15 saucillo chihuahua mx', 'Country': 'Mexico'} True\n",
      "05-06-1981\n",
      "{'Name': 'saleem ali ibrahim', 'DOB_1': '1981/06/05', 'DOB_2': '1981/05/06', 'SSN': 9876545788, 'Address': 'blvd. cuauhtemoc 1711 oficina 305 colonia zona rio tijuana baja california mexico', 'Country': 'Mexico'} True\n",
      "2017\n",
      "{'Name': 'saleem ali ibrahim', 'DOB_1': '2017/01/01', 'DOB_2': '1900/06/01', 'SSN': 9876545788, 'Address': '50 panteli katelari street athens greece', 'Country': 'Greece'} True\n",
      "12/15/1984\n",
      "{'Name': 'anita diaz-torres', 'DOB_1': '1984/12/15', 'DOB_2': '1900/06/01', 'SSN': 9876545788, 'Address': 'citi bank building new york ny', 'Country': 'USA'} True\n",
      "03-05-1961\n",
      "{'Name': 'carlos a. santos', 'DOB_1': '1961/05/03', 'DOB_2': '1961/03/05', 'SSN': 9876545788, 'Address': '226 syracuse place ardson tx 75081', 'Country': 'America'} True\n",
      "01-21-1999\n",
      "{'Name': 'mohammed awaiyedh sharif', 'DOB_1': '1999/01/21', 'DOB_2': '1900/06/01', 'SSN': 9876545788, 'Address': '501 al-muzannar st al-nasir area gaza city gaza palestinian', 'Country': 'Palestine'} True\n",
      "1953\n",
      "{'Name': 'charles taylor guitars inc. usa ', 'DOB_1': '1953/01/01', 'DOB_2': '1900/06/01', 'SSN': 9876545788, 'Address': 'calle mina no. 15 saucillo chihuahua mx', 'Country': 'Mexico'} True\n",
      "10/12/1953, 1964 \n",
      "{'Name': 'wahhabi study center', 'DOB_1': '1953/12/10', 'DOB_2': '1953/10/12', 'SSN': 9876545788, 'Address': 'blvd. cuauhtemoc 1711 oficina 305 colonia zona rio tijuana baja california mexico', 'Country': 'Mexico'} True\n",
      "10/25/1978\n",
      "{'Name': 'villareal cuba', 'DOB_1': '1978/10/25', 'DOB_2': '1900/06/01', 'SSN': 9876545788, 'Address': '51 panteli katelari street athens greece', 'Country': 'Greece'} True\n",
      "05-06-1981\n",
      "{'Name': 'charles taylor guitars inc. usa ', 'DOB_1': '1981/06/05', 'DOB_2': '1981/05/06', 'SSN': 9876545788, 'Address': 'citi bank building new york ny', 'Country': 'USA'} True\n",
      "2017\n",
      "{'Name': 'wahhabi study center', 'DOB_1': '2017/01/01', 'DOB_2': '1900/06/01', 'SSN': 9876545788, 'Address': '227 syracuse place ardson tx 75081', 'Country': 'America'} True\n",
      "12/15/1984\n",
      "{'Name': 'villareal cuba', 'DOB_1': '1984/12/15', 'DOB_2': '1900/06/01', 'SSN': 9876545788, 'Address': '502 al-muzannar st al-nasir area gaza city gaza', 'Country': 'Palestine'} True\n",
      "03-05-1961\n",
      "{'Name': 'mohammed awaiyedh sharif', 'DOB_1': '1961/05/03', 'DOB_2': '1961/03/05', 'SSN': 9876545788, 'Address': 'calle mina no. 15 saucillo chihuahua mx', 'Country': 'Mexico'} True\n",
      "01-21-1999\n",
      "{'Name': 'wahhabi study center', 'DOB_1': '1999/01/21', 'DOB_2': '1900/06/01', 'SSN': 9876543243, 'Address': 'blvd. cuauhtemoc 1711 oficina 305 colonia zona rio tijuana baja california mexico', 'Country': 'Mexico'} True\n"
     ]
    }
   ],
   "source": [
    "l=[]\n",
    "for (i,j) in df.iterrows():\n",
    "    d={}\n",
    "    d['Name'] = str(j.Name).replace(\",\",\"\").lower()\n",
    "    date_variation_list = (try_parsing_date(str(j.DOB).split(\",\")[0]))\n",
    "    date_variation_list= (try_parsing_date(str(j.DOB).split(\",\")[0]))\n",
    "    if(date_variation_list.__len__()>1):\n",
    "        d['DOB_1'] = date_variation_list[0]\n",
    "        d['DOB_2'] = date_variation_list[1]\n",
    "    else:\n",
    "        d['DOB_1'] = date_variation_list[0]\n",
    "        d['DOB_2'] = \"1900/06/01\"\n",
    "    #d['DOB_1'] = str(try_parsing_date(str(j.DOB).split(\",\")[0])[0])\n",
    "    #print (d['DOB_1'])\n",
    "    #break\n",
    "    print(j.DOB)\n",
    "    #try:\n",
    "   #     if(str(try_parsing_date(str(j.DOB).split(\",\")[0])[1])):\n",
    "     #       d['DOB_2'] = str(try_parsing_date(str(j.DOB).split(\",\")[0])[1])\n",
    "    #except:\n",
    "     #   d['DOB_2'] = str(try_parsing_date(str(j.DOB).split(\",\")[0])[0])\n",
    "    d['SSN'] = j.SSN\n",
    "    d['Address'] = str(j.Address).replace(\",\",\"\").lower()\n",
    "    d['Country']=str(j.Country)\n",
    "    #print (j.DOB,d['DOB'])\n",
    "    res = es.index(index=\"sl_list\", doc_type='entity', body=d)\n",
    "    print(d,res['created'])\n",
    "    #l.append(d)\n",
    "    #print(d)\n",
    "    #break;\n"
   ]
  },
  {
   "cell_type": "code",
   "execution_count": null,
   "metadata": {
    "collapsed": true
   },
   "outputs": [],
   "source": []
  },
  {
   "cell_type": "code",
   "execution_count": null,
   "metadata": {
    "collapsed": true
   },
   "outputs": [],
   "source": []
  },
  {
   "cell_type": "code",
   "execution_count": null,
   "metadata": {
    "collapsed": true
   },
   "outputs": [],
   "source": []
  },
  {
   "cell_type": "code",
   "execution_count": null,
   "metadata": {
    "collapsed": true
   },
   "outputs": [],
   "source": []
  },
  {
   "cell_type": "code",
   "execution_count": null,
   "metadata": {
    "collapsed": true
   },
   "outputs": [],
   "source": [
    "\n"
   ]
  },
  {
   "cell_type": "code",
   "execution_count": null,
   "metadata": {
    "collapsed": true
   },
   "outputs": [],
   "source": []
  },
  {
   "cell_type": "code",
   "execution_count": null,
   "metadata": {
    "collapsed": true
   },
   "outputs": [],
   "source": []
  },
  {
   "cell_type": "code",
   "execution_count": null,
   "metadata": {
    "collapsed": true
   },
   "outputs": [],
   "source": []
  },
  {
   "cell_type": "code",
   "execution_count": null,
   "metadata": {
    "collapsed": true
   },
   "outputs": [],
   "source": []
  },
  {
   "cell_type": "code",
   "execution_count": null,
   "metadata": {
    "collapsed": true
   },
   "outputs": [],
   "source": []
  },
  {
   "cell_type": "code",
   "execution_count": null,
   "metadata": {
    "collapsed": true
   },
   "outputs": [],
   "source": []
  },
  {
   "cell_type": "code",
   "execution_count": null,
   "metadata": {
    "collapsed": true
   },
   "outputs": [],
   "source": []
  },
  {
   "cell_type": "code",
   "execution_count": null,
   "metadata": {
    "collapsed": true
   },
   "outputs": [],
   "source": []
  },
  {
   "cell_type": "code",
   "execution_count": null,
   "metadata": {
    "collapsed": true
   },
   "outputs": [],
   "source": []
  }
 ],
 "metadata": {
  "kernelspec": {
   "display_name": "AML-Project-WB",
   "language": "python",
   "name": "aml-project-wb"
  },
  "language_info": {
   "codemirror_mode": {
    "name": "ipython",
    "version": 3
   },
   "file_extension": ".py",
   "mimetype": "text/x-python",
   "name": "python",
   "nbconvert_exporter": "python",
   "pygments_lexer": "ipython3",
   "version": "3.6.3"
  }
 },
 "nbformat": 4,
 "nbformat_minor": 2
}
