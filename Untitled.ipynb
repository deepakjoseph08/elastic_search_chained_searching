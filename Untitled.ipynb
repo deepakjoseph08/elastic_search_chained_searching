{
 "cells": [
  {
   "cell_type": "code",
   "execution_count": 1,
   "metadata": {
    "collapsed": true
   },
   "outputs": [],
   "source": [
    "import json"
   ]
  },
  {
   "cell_type": "code",
   "execution_count": 3,
   "metadata": {},
   "outputs": [
    {
     "data": {
      "text/plain": [
       "{'FirstModueToProcess': 'CountryCheck',\n",
       " 'Flow': {'AddressCheck': [{'IfNo': 'Clear', 'IfYes': 'Escalate'}],\n",
       "  'CountryCheck': [{'IfNo': 'SSNCheck', 'IfYes': 'Escalate'}],\n",
       "  'D.O.B.Check': [{'IfNo': 'Clear', 'IfYes': 'NameCheck'}],\n",
       "  'NameCheck': [{'IfNo': 'Clear', 'IfYes': 'AddressCheck'}],\n",
       "  'SSNCheck': [{'IfNo': 'D.O.B.Check', 'IfYes': 'Escalate'}]}}"
      ]
     },
     "execution_count": 3,
     "metadata": {},
     "output_type": "execute_result"
    }
   ],
   "source": [
    "json.load(open(\"_data/AMLFlow.json\",'r'))"
   ]
  },
  {
   "cell_type": "code",
   "execution_count": null,
   "metadata": {
    "collapsed": true
   },
   "outputs": [],
   "source": []
  }
 ],
 "metadata": {
  "kernelspec": {
   "display_name": "AML-Project-WB",
   "language": "python",
   "name": "aml-project-wb"
  },
  "language_info": {
   "codemirror_mode": {
    "name": "ipython",
    "version": 3
   },
   "file_extension": ".py",
   "mimetype": "text/x-python",
   "name": "python",
   "nbconvert_exporter": "python",
   "pygments_lexer": "ipython3",
   "version": "3.6.3"
  }
 },
 "nbformat": 4,
 "nbformat_minor": 2
}
